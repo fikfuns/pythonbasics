{
 "cells": [
  {
   "cell_type": "code",
   "execution_count": null,
   "id": "e1c9c9ba",
   "metadata": {},
   "outputs": [],
   "source": [
    "#--- -2 --- -1 --- 0 --- 1 --- 2 ----"
   ]
  },
  {
   "cell_type": "code",
   "execution_count": 12,
   "id": "73cf28fb",
   "metadata": {},
   "outputs": [
    {
     "data": {
      "text/plain": [
       "-0.43229410496455034"
      ]
     },
     "execution_count": 12,
     "metadata": {},
     "output_type": "execute_result"
    }
   ],
   "source": [
    "import numpy as np\n",
    "from numpy.random import randn\n",
    "randn()"
   ]
  },
  {
   "cell_type": "code",
   "execution_count": 19,
   "id": "d85b902d",
   "metadata": {},
   "outputs": [
    {
     "name": "stdout",
     "output_type": "stream",
     "text": [
      "1.7724440966949824\n",
      "Greater than 1\n"
     ]
    }
   ],
   "source": [
    "#--- -2 --- -1 --- 0 --- 1 --- 2 ----\n",
    "answer = None\n",
    "x = randn()\n",
    "if x > 1:\n",
    "    answer = \"Greater than 1\"\n",
    "print(x)\n",
    "print(answer)"
   ]
  },
  {
   "cell_type": "code",
   "execution_count": 24,
   "id": "48ab79b7",
   "metadata": {},
   "outputs": [
    {
     "name": "stdout",
     "output_type": "stream",
     "text": [
      "-0.48835936009985376\n",
      "Less than 1\n"
     ]
    }
   ],
   "source": [
    "#--- -2 --- -1 --- 0 --- 1 --- 2 ----\n",
    "answer = None\n",
    "x = randn()\n",
    "if x > 1:\n",
    "    answer = \"Greater than 1\"\n",
    "else:\n",
    "    answer = \"Less than 1\"\n",
    "print(x)\n",
    "print(answer)"
   ]
  },
  {
   "cell_type": "code",
   "execution_count": 58,
   "id": "a233a8de",
   "metadata": {},
   "outputs": [
    {
     "name": "stdout",
     "output_type": "stream",
     "text": [
      "-1.3065102025065103\n",
      "Less than -1\n"
     ]
    }
   ],
   "source": [
    "#--- -2 --- -1 --- 0 --- 1 --- 2 ----\n",
    "#nested statements\n",
    "answer = None #none means null\n",
    "x = randn() #randn = random variable\n",
    "if x > 1:\n",
    "    answer = \"Greater than 1\"\n",
    "else:\n",
    "    if x>= -1:\n",
    "        answer = \"Between -1 and 1\"\n",
    "    else:\n",
    "        answer = \"Less than -1\"\n",
    "print(x)\n",
    "print(answer)"
   ]
  },
  {
   "cell_type": "code",
   "execution_count": 77,
   "id": "b5c3aa3c",
   "metadata": {},
   "outputs": [
    {
     "name": "stdout",
     "output_type": "stream",
     "text": [
      "-2.2491222885648967\n",
      "Less than -1\n"
     ]
    }
   ],
   "source": [
    "#--- -2 --- -1 --- 0 --- 1 --- 2 ----\n",
    "#chained statemnts\n",
    "answer = None \n",
    "x = randn() \n",
    "if x > 1:\n",
    "    answer = \"Greater than 1\"\n",
    "elif x>= -1:\n",
    "    answer = \"Between -1 and 1\"\n",
    "else:\n",
    "    answer = \"Less than -1\"\n",
    "print(x)\n",
    "print(answer)"
   ]
  },
  {
   "cell_type": "code",
   "execution_count": null,
   "id": "307064bd",
   "metadata": {},
   "outputs": [],
   "source": []
  }
 ],
 "metadata": {
  "kernelspec": {
   "display_name": "Python 3",
   "language": "python",
   "name": "python3"
  },
  "language_info": {
   "codemirror_mode": {
    "name": "ipython",
    "version": 3
   },
   "file_extension": ".py",
   "mimetype": "text/x-python",
   "name": "python",
   "nbconvert_exporter": "python",
   "pygments_lexer": "ipython3",
   "version": "3.8.8"
  }
 },
 "nbformat": 4,
 "nbformat_minor": 5
}
