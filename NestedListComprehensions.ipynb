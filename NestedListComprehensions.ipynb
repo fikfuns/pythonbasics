{
 "cells": [
  {
   "cell_type": "markdown",
   "id": "db8b680c",
   "metadata": {},
   "source": [
    "<h2><center>Nested List Comprehensions Part 2</center></h2>\n",
    "\n",
    "[Article/Reference Source](https://www.pythonforbeginners.com/lists/nested-list-comprehensions-in-python)\n",
    "\n"
   ]
  },
  {
   "cell_type": "markdown",
   "id": "4b1bbe08",
   "metadata": {},
   "source": [
    "A Basic list comprehension syntax is,<br>\n",
    "\n",
    "<code>new_list = [expression for item in list]</code><br>\n",
    "\n",
    "<b>expression</b> : used to modify each item in the statement<br>\n",
    "<b>item</b> : element in the iterable<br>\n",
    "<b>list</b> : an iterable object<br><br>\n",
    "\n",
    "Nested list comprehension syntax<br>\n",
    "\n",
    "<code>new_list = [[expression for item in list] for item in list]</code>"
   ]
  },
  {
   "cell_type": "code",
   "execution_count": 1,
   "id": "0475cb65",
   "metadata": {},
   "outputs": [
    {
     "name": "stdout",
     "output_type": "stream",
     "text": [
      "[[0, 1, 2], [0, 1, 2], [0, 1, 2]]\n"
     ]
    }
   ],
   "source": [
    "#Example 1 : A basic Python matrix\n",
    "\n",
    "# -------------Creating a list of lists--------------\n",
    "\n",
    "matrix = [[0,1,2],[0,1,2],[0,1,2]]\n",
    "print(matrix)"
   ]
  },
  {
   "cell_type": "code",
   "execution_count": 2,
   "id": "3251c15b",
   "metadata": {},
   "outputs": [
    {
     "name": "stdout",
     "output_type": "stream",
     "text": [
      "[[0, 1, 2], [0, 1, 2], [0, 1, 2]]\n"
     ]
    }
   ],
   "source": [
    "#Example 2 : Creating for loops to create a matrix\n",
    "\n",
    "matrix = []\n",
    "for y in range(3):\n",
    "    matrix.append([])\n",
    "    for x in range(3):\n",
    "        matrix[y].append(x)\n",
    "print(matrix)"
   ]
  },
  {
   "cell_type": "code",
   "execution_count": 4,
   "id": "16a15e51",
   "metadata": {},
   "outputs": [
    {
     "name": "stdout",
     "output_type": "stream",
     "text": [
      "[[0, 1, 2], [0, 1, 2], [0, 1, 2]]\n"
     ]
    }
   ],
   "source": [
    "#-------------Applying List Comprehension-----------\n",
    "\n",
    "marix = [[x for x in range(3)] for y in range(3)]\n",
    "print(matrix)"
   ]
  },
  {
   "cell_type": "markdown",
   "id": "a8a95ae8",
   "metadata": {},
   "source": [
    "<h3>Building a Tic-Tac-Toe Board</h3>"
   ]
  },
  {
   "cell_type": "code",
   "execution_count": 5,
   "id": "3855ef58",
   "metadata": {},
   "outputs": [
    {
     "name": "stdout",
     "output_type": "stream",
     "text": [
      "[' ', ' ', ' ']\n",
      "[' ', ' ', ' ']\n",
      "[' ', ' ', ' ']\n"
     ]
    }
   ],
   "source": [
    "tic_board = [[' ' for x in range(3)] for y in range(3)]\n",
    "\n",
    "def printmatrix(matrix):\n",
    "    for row in range(len(matrix)):\n",
    "        print(matrix[row])\n",
    "\n",
    "printmatrix(tic_board)"
   ]
  },
  {
   "cell_type": "markdown",
   "id": "52bb90cf",
   "metadata": {},
   "source": [
    "Additinally, we can place an <b>'X'</b> on the gameboard using <b>list notation</b>"
   ]
  },
  {
   "cell_type": "code",
   "execution_count": 6,
   "id": "4459806c",
   "metadata": {},
   "outputs": [
    {
     "name": "stdout",
     "output_type": "stream",
     "text": [
      "[' ', ' ', ' ']\n",
      "[' ', 'X', ' ']\n",
      "[' ', ' ', ' ']\n"
     ]
    }
   ],
   "source": [
    "tic_board[1][1]='X'\n",
    "printmatrix(tic_board)"
   ]
  },
  {
   "cell_type": "markdown",
   "id": "a1d88535",
   "metadata": {},
   "source": [
    "<h3>Creating a matrix from a series</h3>"
   ]
  },
  {
   "cell_type": "code",
   "execution_count": 7,
   "id": "05359aad",
   "metadata": {},
   "outputs": [
    {
     "name": "stdout",
     "output_type": "stream",
     "text": [
      "[[0, 1, 2], [3, 4, 5], [6, 7, 8]]\n"
     ]
    }
   ],
   "source": [
    "# Manipulating expression\n",
    "\n",
    "matrix = [[x+(y*3)for x in range(3)] for y in range(3)]\n",
    "print(matrix)"
   ]
  },
  {
   "cell_type": "markdown",
   "id": "849ba8ac",
   "metadata": {},
   "source": [
    "<h3>Transposing nested lists</h3>\n",
    "\n",
    "Example : Turning each row into a column"
   ]
  },
  {
   "cell_type": "code",
   "execution_count": 11,
   "id": "10c8549d",
   "metadata": {},
   "outputs": [
    {
     "name": "stdout",
     "output_type": "stream",
     "text": [
      "[[1, 4, 7], [2, 5, 8], [3, 6, 9]]\n"
     ]
    }
   ],
   "source": [
    "matrix = [[1,2,3],\n",
    "         [4,5,6],\n",
    "         [7,8,9]]\n",
    "\n",
    "transposed = [[x[y] for x in matrix] for y in range(len(matrix))]\n",
    "              \n",
    "print(transposed)"
   ]
  },
  {
   "cell_type": "markdown",
   "id": "b4b7d1a1",
   "metadata": {},
   "source": [
    "<h3>Filtering Nested List Comprehension Statements</h3>\n",
    "\n",
    "Example : Provide list comprehension with a condition that <b>selects only even numbers</b>"
   ]
  },
  {
   "cell_type": "code",
   "execution_count": 13,
   "id": "535dbcd2",
   "metadata": {},
   "outputs": [
    {
     "name": "stdout",
     "output_type": "stream",
     "text": [
      "[2, 4, 6, 8]\n",
      "[[2, 4, 6, 8], [2, 4, 6, 8]]\n"
     ]
    }
   ],
   "source": [
    "matrix = [x for x in range(1,10) if x%2 == 0]\n",
    "print(matrix)\n",
    "\n",
    "# Creating a matrix of even numbers using nested list\n",
    "\n",
    "even_matrix = [[x for x in range(1,10) if x%2 == 0] for y in range(2)]\n",
    "print(even_matrix)"
   ]
  },
  {
   "cell_type": "markdown",
   "id": "b55f728d",
   "metadata": {},
   "source": [
    "<h3>Flattening a nested list</h3>"
   ]
  },
  {
   "cell_type": "code",
   "execution_count": 15,
   "id": "9a224634",
   "metadata": {},
   "outputs": [
    {
     "name": "stdout",
     "output_type": "stream",
     "text": [
      "[1, 2, 3, 4, 5, 6, 7, 8, 9]\n",
      "[1, 2, 3, 4, 5, 6, 7, 8, 9]\n"
     ]
    }
   ],
   "source": [
    "matrix = [[1,2,3],\n",
    "         [4,5,6],\n",
    "         [7,8,9]]\n",
    "\n",
    "#Flattening the matrix to [1,2,3,4,5,6,7,8,9]\n",
    "\n",
    "flat = [x for row in matrix for x in row]\n",
    "print(flat)\n",
    "\n",
    "#Another way of flattening a list using for loop & append()\n",
    "\n",
    "list = []\n",
    "for row in matrix:\n",
    "    for x in row:\n",
    "        list.append(x)\n",
    "print(list)"
   ]
  }
 ],
 "metadata": {
  "kernelspec": {
   "display_name": "Python 3",
   "language": "python",
   "name": "python3"
  },
  "language_info": {
   "codemirror_mode": {
    "name": "ipython",
    "version": 3
   },
   "file_extension": ".py",
   "mimetype": "text/x-python",
   "name": "python",
   "nbconvert_exporter": "python",
   "pygments_lexer": "ipython3",
   "version": "3.7.11"
  }
 },
 "nbformat": 4,
 "nbformat_minor": 5
}
