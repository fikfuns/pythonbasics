{
 "cells": [
  {
   "cell_type": "markdown",
   "id": "c04ae980",
   "metadata": {},
   "source": [
    "<h2><center>Nested List Comprehensions</center></h2>\n",
    "\n",
    "---"
   ]
  },
  {
   "cell_type": "markdown",
   "id": "47de7ee3",
   "metadata": {},
   "source": [
    "\n",
    "<h2>GeekforGeeks</h2>\n",
    "\n",
    "[Article/Example referred](https://www.geeksforgeeks.org/nested-list-comprehensions-in-python/)\n",
    "\n",
    "<h2>Example 1</h2><br> Let's create a matrix like so,<br>\n",
    "<code>matrix = [[0, 1, 2, 3, 4],\n",
    "          [0, 1, 2, 3, 4],\n",
    "          [0, 1, 2, 3, 4],\n",
    "          [0, 1, 2, 3, 4],\n",
    "          [0, 1, 2, 3, 4]]</code><br><br>\n",
    "          \n",
    "<b>We can use nested loops for it, </b>\n",
    "\n",
    "\n",
    "    matrix = []\n",
    "  \n",
    "    for i in range(5):\n",
    "      \n",
    "    # Append an empty sublist inside the list\n",
    "    matrix.append([])\n",
    "      \n",
    "    for j in range(5):\n",
    "        matrix[i].append(j)\n",
    "          \n",
    "    print(matrix)\n",
    "\n",
    "\n",
    "The output would be : <code>[[0, 1, 2, 3, 4], [0, 1, 2, 3, 4], [0, 1, 2, 3, 4], [0, 1, 2, 3, 4], [0, 1, 2, 3, 4]]\n",
    "</code>\n",
    "\n",
    "By using list comprehension, it is much more effiecient. It can be done in one line."
   ]
  },
  {
   "cell_type": "code",
   "execution_count": 1,
   "id": "ec96a49f",
   "metadata": {},
   "outputs": [
    {
     "name": "stdout",
     "output_type": "stream",
     "text": [
      "[[0, 1, 2, 3, 4], [0, 1, 2, 3, 4], [0, 1, 2, 3, 4], [0, 1, 2, 3, 4], [0, 1, 2, 3, 4]]\n"
     ]
    }
   ],
   "source": [
    "#Example 1 List Comprehension\n",
    "\n",
    "matrix = [[j for j in range(5)] for i in range(5)]\n",
    "print(matrix)"
   ]
  },
  {
   "cell_type": "markdown",
   "id": "84461d72",
   "metadata": {},
   "source": [
    "<h2>Example 2</h2><br>\n",
    "\n",
    "Suppose you want to flatten a given 2D list,\n",
    "\n",
    "<code>matrix = [[1,2,3],[4,5,6],[7,8,9]]</code><br>\n",
    "Expected output : <code>flatten_matrix = [1,2,3,4,5,6,7,8,9]</code>\n",
    "\n",
    "<b>Using a nested <code>for</code> loop for the problem..<br></b>\n",
    "\n",
    "<code>matrix = [[1, 2, 3], [4, 5], [6, 7, 8, 9]]<code>\n",
    "  \n",
    "<code>flatten_matrix = []\n",
    "  \n",
    "for sublist in matrix:\n",
    "    for val in sublist:\n",
    "        flatten_matrix.append(val)\n",
    "          \n",
    "print(flatten_matrix)\n",
    "</code>\n",
    "    \n",
    "Output would be :<br><code>[1, 2, 3, 4, 5, 6, 7, 8, 9]</code>"
   ]
  },
  {
   "cell_type": "code",
   "execution_count": 2,
   "id": "3025c361",
   "metadata": {},
   "outputs": [
    {
     "name": "stdout",
     "output_type": "stream",
     "text": [
      "[1, 2, 3, 4, 5, 6, 7, 8, 9]\n"
     ]
    }
   ],
   "source": [
    "#Example 2 with nested list\n",
    "matrix = [[1,2,3],[4,5],[6,7,8,9]]\n",
    "\n",
    "#Flatten the matrix using nested list comprehension\n",
    "flatten_matrix = [val for sublist in matrix for val in sublist]\n",
    "print(flatten_matrix)"
   ]
  },
  {
   "cell_type": "markdown",
   "id": "ff45aded",
   "metadata": {},
   "source": [
    "<h2>Example 3</h2>\n",
    "\n",
    "Problem : Flatten a 2D list and <b>only include those strings whose lengths are less than 6</b>\n",
    "\n",
    "<code>planets = [[‘Mercury’, ‘Venus’, ‘Earth’], [‘Mars’, ‘Jupiter’, ‘Saturn’], [‘Uranus’, ‘Neptune’, ‘Pluto’]]</code><br>\n",
    "\n",
    "Expected output : <code>flatten_planets = [‘Venus’, ‘Earth’, ‘Mars’, ‘Pluto’]</code><br>\n",
    "\n",
    "<b>Using <code>for</code>loops</b>\n",
    "\n",
    "<code>planets = [['Mercury', 'Venus', 'Earth'], ['Mars', 'Jupiter', 'Saturn'], ['Uranus', 'Neptune', 'Pluto']]</code>\n",
    "  \n",
    "<code>flatten_planets = []</code>\n",
    "  \n",
    "<code>for sublist in planets:\n",
    "    for planet in sublist:      \n",
    "        if len(planet) < 6:\n",
    "            flatten_planets.append(planet)\n",
    "          \n",
    "    print(flatten_planets)\n",
    "                           \n",
    "Output : <code>['Venus', 'Earth', 'Mars', 'Pluto']</code>\n",
    "                           "
   ]
  },
  {
   "cell_type": "code",
   "execution_count": 4,
   "id": "7fe1e090",
   "metadata": {},
   "outputs": [
    {
     "name": "stdout",
     "output_type": "stream",
     "text": [
      "['Venus', 'Earth', 'Mars', 'Pluto']\n"
     ]
    }
   ],
   "source": [
    "#Example 3 using nested list comprehension\n",
    "\n",
    "\n",
    "# 2-D List of planets\n",
    "planets = [['Mercury', 'Venus', 'Earth'], \n",
    "           ['Mars', 'Jupiter', 'Saturn'], \n",
    "           ['Uranus', 'Neptune', 'Pluto']]\n",
    "  \n",
    "# Nested List comprehension with an if condition\n",
    "flatten_planets = [planet for sublist in planets \n",
    "                   for planet in sublist \n",
    "                   if len(planet) < 6]\n",
    "          \n",
    "print(flatten_planets)"
   ]
  }
 ],
 "metadata": {
  "kernelspec": {
   "display_name": "Python 3 (ipykernel)",
   "language": "python",
   "name": "python3"
  },
  "language_info": {
   "codemirror_mode": {
    "name": "ipython",
    "version": 3
   },
   "file_extension": ".py",
   "mimetype": "text/x-python",
   "name": "python",
   "nbconvert_exporter": "python",
   "pygments_lexer": "ipython3",
   "version": "3.10.1"
  }
 },
 "nbformat": 4,
 "nbformat_minor": 5
}
